{
 "cells": [
  {
   "cell_type": "code",
   "execution_count": 1,
   "metadata": {
    "collapsed": true
   },
   "outputs": [],
   "source": [
    "from __future__ import print_function\n",
    "from os import listdir\n",
    "import pandas as pd\n",
    "import numpy as np\n",
    "import pickle"
   ]
  },
  {
   "cell_type": "code",
   "execution_count": null,
   "metadata": {
    "collapsed": true
   },
   "outputs": [],
   "source": [
    "class unitStructure():\n",
    "    def __init__(self):\n",
    "        self.Spikes = []\n",
    "        self.IS = 0.0\n",
    "        self.XYZ = []\n",
    "        self.Loc = ''\n",
    "        self.Stab = []"
   ]
  },
  {
   "cell_type": "code",
   "execution_count": null,
   "metadata": {
    "collapsed": true
   },
   "outputs": [],
   "source": [
    "dataDir = '../data/'\n",
    "dirNames = ['m4404ee', 'c6404ee']\n",
    "fileTypes = ['Tbhv', 'trTarget', 'ANDat']\n",
    "\n",
    "sigma = 100 # 100ms\n",
    "\n",
    "for dirName in dirNames:\n",
    "    targetDir = dataDir + dirName\n",
    "    files = listdir(targetDir)\n",
    "    for fileName in files:\n",
    "        for fileType in fileTypes:\n",
    "            if fileName.startswith(fileType) & fileName.endswith('.txt'):\n",
    "                \n",
    "                \n",
    "                "
   ]
  }
 ],
 "metadata": {
  "kernelspec": {
   "display_name": "Python [default]",
   "language": "python",
   "name": "python3"
  },
  "language_info": {
   "codemirror_mode": {
    "name": "ipython",
    "version": 3
   },
   "file_extension": ".py",
   "mimetype": "text/x-python",
   "name": "python",
   "nbconvert_exporter": "python",
   "pygments_lexer": "ipython3",
   "version": "3.5.4"
  }
 },
 "nbformat": 4,
 "nbformat_minor": 2
}
