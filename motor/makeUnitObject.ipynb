{
 "cells": [
  {
   "cell_type": "code",
   "execution_count": 1,
   "metadata": {
    "collapsed": true
   },
   "outputs": [],
   "source": [
    "from __future__ import print_function\n",
    "from os import listdir\n",
    "import pandas as pd\n",
    "import numpy as np\n",
    "import pickle"
   ]
  },
  {
   "cell_type": "code",
   "execution_count": 10,
   "metadata": {
    "collapsed": true
   },
   "outputs": [],
   "source": [
    "class unitStructure():\n",
    "    def __init__(self):\n",
    "        self.Spikes = []\n",
    "        self.IS = 0.0\n",
    "        self.XYZ = []\n",
    "        self.Loc = ''\n",
    "        self.Stab = []\n",
    "        \n",
    "#     def approx_firing_rate(self, sigma=100):\n",
    "#         approxFiringRateArray = np.empty((0, len(self.Spikes[0])), int)\n",
    "#         for trial, spikeTrain in enumerate(self.Spikes):\n",
    "#             approxFiringRate = np.zeros(len(spikeTrain))\n",
    "#             timeSeries = np.arange(len(spikeTrain))\n",
    "#             for timePoint in timeSeries:\n",
    "#                 kernel = np.exp(-(timeSeries - timePoint) ** 2 / (2 * sigma ** 2))\n",
    "#                 kernel = kernel / sum(kernel)\n",
    "#                 approxFiringRate[timePoint] = sum(spikeTrain * kernel)\n",
    "#             approxFiringRateArray = np.insert(approxFiringRateArray, trial, approxFiringRate, axis=0)\n",
    "#         return approxFiringRateArray"
   ]
  },
  {
   "cell_type": "code",
   "execution_count": 15,
   "metadata": {
    "collapsed": true
   },
   "outputs": [],
   "source": [
    "def ex_int(s):\n",
    "    try:\n",
    "        int(s)\n",
    "    except ValueError:\n",
    "        return np.nan\n",
    "    else:\n",
    "        return int(s)"
   ]
  },
  {
   "cell_type": "code",
   "execution_count": 16,
   "metadata": {
    "collapsed": true
   },
   "outputs": [],
   "source": [
    "dataDir = '../data/'\n",
    "dirNames = ['m4404ee', 'c6404ee']\n",
    "fileTypes = ['Tbhv', 'trTarget', 'ANdat', 'analogAx']\n",
    "\n",
    "\n",
    "for dirName in dirNames:\n",
    "    targetDir = dataDir + dirName\n",
    "    files = listdir(targetDir)\n",
    "    for fileName in files:\n",
    "        if fileName.startswith('unit') & fileName.endswith('.txt'):\n",
    "            fh = open(targetDir + '/' + fileName)\n",
    "            unit = unitStructure()\n",
    "            for line in fh.readlines():\n",
    "                line = line.replace('\\n', '')\n",
    "                if line.startswith('Spikes:'):\n",
    "                    continue\n",
    "                elif line.startswith('IS:'):\n",
    "                    elems = line.split(': ')\n",
    "                    unit.IS = float(elems[1])\n",
    "                elif line.startswith('XYZ:'):\n",
    "                    elems = line.split(': ')\n",
    "                    unit.XYZ = [float(s) for s in elems[1].split(', ')]\n",
    "                elif line.startswith('Loc:'):\n",
    "                    elems = line.split(': ')\n",
    "                    unit.Loc = elems[1]\n",
    "                elif line.startswith('Stab:'):\n",
    "                    elems = line.split(': ')\n",
    "                    unit.Stab = [int(s) for s in elems[1].split(', ')]\n",
    "                else:\n",
    "                    spikes = [ex_int(s) for s in line.split(', ')]\n",
    "                    spikes = np.array(spikes)\n",
    "                    unit.Spikes.append(spikes)\n",
    "            pickleFileName = targetDir + '/' + fileName.replace('.txt', '.binaryfile')\n",
    "            outFile = open(pickleFileName, 'wb')\n",
    "            pickle.dump(unit, outFile)"
   ]
  },
  {
   "cell_type": "code",
   "execution_count": 8,
   "metadata": {},
   "outputs": [],
   "source": [
    "dataDir = '../data/'\n",
    "dirNames = ['m4404ee', 'c6404ee']\n",
    "fileTypes = ['Tbhv', 'trTarget', 'ANdat', 'analogAx']\n",
    "\n",
    "targetDir = dataDir + dirNames[0]\n",
    "files = listdir(targetDir)\n",
    "for fileName in files:\n",
    "    if fileName.startswith('ANdat'):\n",
    "        ANdat_DF = pd.read_csv(targetDir + '/' + fileName, header=None)"
   ]
  },
  {
   "cell_type": "code",
   "execution_count": 17,
   "metadata": {},
   "outputs": [
    {
     "data": {
      "text/plain": [
       "[<matplotlib.lines.Line2D at 0x10a87ec18>]"
      ]
     },
     "execution_count": 17,
     "metadata": {},
     "output_type": "execute_result"
    },
    {
     "data": {
      "image/png": "[encoded data removed]",
      "text/plain": [
       "<matplotlib.figure.Figure at 0x109d50438>"
      ]
     },
     "metadata": {},
     "output_type": "display_data"
    }
   ],
   "source": []
  },
  {
   "cell_type": "code",
   "execution_count": 12,
   "metadata": {},
   "outputs": [
    {
     "data": {
      "text/plain": [
       "7723"
      ]
     },
     "execution_count": 12,
     "metadata": {},
     "output_type": "execute_result"
    }
   ],
   "source": []
  },
  {
   "cell_type": "code",
   "execution_count": null,
   "metadata": {
    "collapsed": true
   },
   "outputs": [],
   "source": []
  }
 ],
 "metadata": {
  "kernelspec": {
   "display_name": "Python [conda root]",
   "language": "python",
   "name": "conda-root-py"
  },
  "language_info": {
   "codemirror_mode": {
    "name": "ipython",
    "version": 3
   },
   "file_extension": ".py",
   "mimetype": "text/x-python",
   "name": "python",
   "nbconvert_exporter": "python",
   "pygments_lexer": "ipython3",
   "version": "3.5.4"
  }
 },
 "nbformat": 4,
 "nbformat_minor": 2
}
